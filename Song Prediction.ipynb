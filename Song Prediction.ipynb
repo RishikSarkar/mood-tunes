{
 "cells": [
  {
   "cell_type": "markdown",
   "id": "2cd84bd9",
   "metadata": {},
   "source": [
    "# Collecting Image"
   ]
  },
  {
   "cell_type": "code",
   "execution_count": 1,
   "id": "b2a7a228",
   "metadata": {},
   "outputs": [],
   "source": [
    "import os\n",
    "import pandas as pd\n",
    "from keras.models import load_model\n",
    "import cv2\n",
    "from matplotlib import pyplot as plt\n",
    "import numpy as np"
   ]
  },
  {
   "cell_type": "code",
   "execution_count": 2,
   "id": "6c13dab2",
   "metadata": {},
   "outputs": [],
   "source": [
    "model_path = os.path.join('models', 'model.h5')\n",
    "model = load_model(model_path)"
   ]
  },
  {
   "cell_type": "code",
   "execution_count": 3,
   "id": "ae100b27",
   "metadata": {},
   "outputs": [
    {
     "data": {
      "text/html": [
       "<div>\n",
       "<style scoped>\n",
       "    .dataframe tbody tr th:only-of-type {\n",
       "        vertical-align: middle;\n",
       "    }\n",
       "\n",
       "    .dataframe tbody tr th {\n",
       "        vertical-align: top;\n",
       "    }\n",
       "\n",
       "    .dataframe thead th {\n",
       "        text-align: right;\n",
       "    }\n",
       "</style>\n",
       "<table border=\"1\" class=\"dataframe\">\n",
       "  <thead>\n",
       "    <tr style=\"text-align: right;\">\n",
       "      <th></th>\n",
       "      <th>name</th>\n",
       "      <th>artist</th>\n",
       "      <th>mood</th>\n",
       "    </tr>\n",
       "  </thead>\n",
       "  <tbody>\n",
       "    <tr>\n",
       "      <th>0</th>\n",
       "      <td>1999</td>\n",
       "      <td>Prince</td>\n",
       "      <td>Happy</td>\n",
       "    </tr>\n",
       "    <tr>\n",
       "      <th>1</th>\n",
       "      <td>23</td>\n",
       "      <td>Blonde Redhead</td>\n",
       "      <td>Sad</td>\n",
       "    </tr>\n",
       "    <tr>\n",
       "      <th>2</th>\n",
       "      <td>9 Crimes</td>\n",
       "      <td>Damien Rice</td>\n",
       "      <td>Sad</td>\n",
       "    </tr>\n",
       "    <tr>\n",
       "      <th>3</th>\n",
       "      <td>99 Luftballons</td>\n",
       "      <td>Nena</td>\n",
       "      <td>Happy</td>\n",
       "    </tr>\n",
       "    <tr>\n",
       "      <th>4</th>\n",
       "      <td>A Boy Brushed Red Living In Black And White</td>\n",
       "      <td>Underoath</td>\n",
       "      <td>Energetic</td>\n",
       "    </tr>\n",
       "  </tbody>\n",
       "</table>\n",
       "</div>"
      ],
      "text/plain": [
       "                                          name          artist       mood\n",
       "0                                         1999          Prince      Happy\n",
       "1                                           23  Blonde Redhead        Sad\n",
       "2                                     9 Crimes     Damien Rice        Sad\n",
       "3                               99 Luftballons            Nena      Happy\n",
       "4  A Boy Brushed Red Living In Black And White       Underoath  Energetic"
      ]
     },
     "execution_count": 3,
     "metadata": {},
     "output_type": "execute_result"
    }
   ],
   "source": [
    "song_dataset = pd.read_csv(os.path.join('data', 'song_moods.csv'))\n",
    "song_dataset = song_dataset[['name', 'artist', 'mood']]\n",
    "song_dataset.head()"
   ]
  },
  {
   "cell_type": "code",
   "execution_count": 4,
   "id": "6c65eded",
   "metadata": {},
   "outputs": [],
   "source": [
    "import time"
   ]
  },
  {
   "cell_type": "code",
   "execution_count": 5,
   "id": "9398859e",
   "metadata": {},
   "outputs": [
    {
     "name": "stdout",
     "output_type": "stream",
     "text": [
      "Collecting test image\n"
     ]
    }
   ],
   "source": [
    "#'''\n",
    "cap = cv2.VideoCapture(0)\n",
    "\n",
    "time.sleep(3)\n",
    "print('Collecting test image')\n",
    "ret, frame = cap.read()\n",
    "imgname = os.path.join('collectedImages', 'test_image.jpg')\n",
    "cv2.imwrite(imgname, frame)\n",
    "cv2.imshow('frame', frame)\n",
    "\n",
    "cap.release()\n",
    "cv2.destroyAllWindows()\n",
    "#'''"
   ]
  },
  {
   "cell_type": "code",
   "execution_count": 6,
   "id": "7540d6cd",
   "metadata": {},
   "outputs": [],
   "source": [
    "test_img_dir = os.path.join('collectedImages', 'test_image.jpg')"
   ]
  },
  {
   "cell_type": "code",
   "execution_count": 7,
   "id": "eb613004",
   "metadata": {},
   "outputs": [],
   "source": [
    "img = cv2.imread(test_img_dir)\n",
    "gray = cv2.cvtColor(img, cv2.COLOR_BGR2GRAY)\n",
    "\n",
    "haarscascade_dir = os.path.join('haarscascade', 'haarcascade_frontalface_alt2.xml')\n",
    "face_cascade = cv2.CascadeClassifier(haarscascade_dir)\n",
    "faces = face_cascade.detectMultiScale(gray, 1.1, 4)\n",
    "\n",
    "for (x, y, w, h) in faces:\n",
    "    cv2.rectangle(img, (x, y), (x + w, y + h), (0, 0, 255), 2)\n",
    "    faces = img[y:y + h, x:x + w]\n",
    "    cv2.imwrite(os.path.join('collectedImages', 'cropped', 'test_cropped.jpg'), faces)"
   ]
  },
  {
   "cell_type": "code",
   "execution_count": 8,
   "id": "1eef0288",
   "metadata": {},
   "outputs": [
    {
     "data": {
      "image/png": "[encoded data removed]",
      "text/plain": [
       "<Figure size 640x480 with 1 Axes>"
      ]
     },
     "metadata": {},
     "output_type": "display_data"
    }
   ],
   "source": [
    "cropped_test_img_dir = os.path.join('collectedImages', 'cropped', 'test_cropped.jpg')\n",
    "\n",
    "if not os.path.exists(cropped_test_img_dir):\n",
    "    cropped_test_img_dir = test_img_dir\n",
    "\n",
    "test_image = cv2.imread(cropped_test_img_dir, cv2.IMREAD_GRAYSCALE)\n",
    "test_image = cv2.resize(test_image, (48, 48))\n",
    "plt.imshow(test_image, cmap='gray')\n",
    "plt.show()"
   ]
  },
  {
   "cell_type": "code",
   "execution_count": 9,
   "id": "08cc00e2",
   "metadata": {},
   "outputs": [],
   "source": [
    "test_img = np.array(test_image)\n",
    "test_img = test_img.reshape(1, 48, 48, 1)"
   ]
  },
  {
   "cell_type": "code",
   "execution_count": 10,
   "id": "ce2d3cfb",
   "metadata": {},
   "outputs": [],
   "source": [
    "def mood_from_label(label):\n",
    "    labels = ['angry', 'disgust', 'fear', 'happy', 'neutral', 'sad', 'surprise']\n",
    "    return labels[label]"
   ]
  },
  {
   "cell_type": "code",
   "execution_count": 11,
   "id": "01cd8859",
   "metadata": {},
   "outputs": [
    {
     "name": "stdout",
     "output_type": "stream",
     "text": [
      "1/1 [==============================] - 0s 123ms/step\n",
      "happy\n"
     ]
    }
   ],
   "source": [
    "predict_x = model.predict(test_img)\n",
    "result = np.argmax(predict_x, axis=1)\n",
    "print(mood_from_label(result[0]))"
   ]
  },
  {
   "cell_type": "code",
   "execution_count": 12,
   "id": "cb9bcfeb",
   "metadata": {},
   "outputs": [
    {
     "name": "stdout",
     "output_type": "stream",
     "text": [
      "3 happy\n"
     ]
    }
   ],
   "source": [
    "mood_label = result[0]\n",
    "mood = mood_from_label(result[0])\n",
    "\n",
    "print(mood_label, mood)"
   ]
  },
  {
   "cell_type": "markdown",
   "id": "3c6db18f",
   "metadata": {},
   "source": [
    "# Recommending Song List"
   ]
  },
  {
   "cell_type": "code",
   "execution_count": 13,
   "id": "8605e3ec",
   "metadata": {},
   "outputs": [],
   "source": [
    "def find_song_mood(label):\n",
    "    if (label == 0 or label == 1 or label == 2):\n",
    "        return 'Calm'\n",
    "    elif (label == 3 or label == 4):\n",
    "        return 'Happy'\n",
    "    elif (label == 5):\n",
    "        return 'Sad'\n",
    "    elif (label == 6):\n",
    "        return 'Energetic'"
   ]
  },
  {
   "cell_type": "code",
   "execution_count": 14,
   "id": "a335342b",
   "metadata": {},
   "outputs": [
    {
     "data": {
      "text/html": [
       "<div>\n",
       "<style scoped>\n",
       "    .dataframe tbody tr th:only-of-type {\n",
       "        vertical-align: middle;\n",
       "    }\n",
       "\n",
       "    .dataframe tbody tr th {\n",
       "        vertical-align: top;\n",
       "    }\n",
       "\n",
       "    .dataframe thead th {\n",
       "        text-align: right;\n",
       "    }\n",
       "</style>\n",
       "<table border=\"1\" class=\"dataframe\">\n",
       "  <thead>\n",
       "    <tr style=\"text-align: right;\">\n",
       "      <th></th>\n",
       "      <th>index</th>\n",
       "      <th>name</th>\n",
       "      <th>artist</th>\n",
       "      <th>mood</th>\n",
       "    </tr>\n",
       "  </thead>\n",
       "  <tbody>\n",
       "    <tr>\n",
       "      <th>0</th>\n",
       "      <td>235</td>\n",
       "      <td>Here Comes The Sun - Remastered 2009</td>\n",
       "      <td>The Beatles</td>\n",
       "      <td>Happy</td>\n",
       "    </tr>\n",
       "    <tr>\n",
       "      <th>1</th>\n",
       "      <td>538</td>\n",
       "      <td>Teenage Dirtbag</td>\n",
       "      <td>Wheatus</td>\n",
       "      <td>Happy</td>\n",
       "    </tr>\n",
       "    <tr>\n",
       "      <th>2</th>\n",
       "      <td>531</td>\n",
       "      <td>Take on Me</td>\n",
       "      <td>a-ha</td>\n",
       "      <td>Happy</td>\n",
       "    </tr>\n",
       "    <tr>\n",
       "      <th>3</th>\n",
       "      <td>356</td>\n",
       "      <td>Mr. Blue Sky</td>\n",
       "      <td>Electric Light Orchestra</td>\n",
       "      <td>Happy</td>\n",
       "    </tr>\n",
       "    <tr>\n",
       "      <th>4</th>\n",
       "      <td>323</td>\n",
       "      <td>Lonely Boy</td>\n",
       "      <td>Andrew Gold</td>\n",
       "      <td>Happy</td>\n",
       "    </tr>\n",
       "  </tbody>\n",
       "</table>\n",
       "</div>"
      ],
      "text/plain": [
       "   index                                  name                    artist  \\\n",
       "0    235  Here Comes The Sun - Remastered 2009               The Beatles   \n",
       "1    538                       Teenage Dirtbag                   Wheatus   \n",
       "2    531                            Take on Me                      a-ha   \n",
       "3    356                          Mr. Blue Sky  Electric Light Orchestra   \n",
       "4    323                            Lonely Boy               Andrew Gold   \n",
       "\n",
       "    mood  \n",
       "0  Happy  \n",
       "1  Happy  \n",
       "2  Happy  \n",
       "3  Happy  \n",
       "4  Happy  "
      ]
     },
     "metadata": {},
     "output_type": "display_data"
    }
   ],
   "source": [
    "song_mood = song_dataset['mood'] == find_song_mood(mood_label)\n",
    "\n",
    "temp = song_dataset.where(song_mood)\n",
    "temp = temp.dropna()\n",
    "songs = temp.sample(n=5)\n",
    "songs.reset_index(inplace=True)\n",
    "display(songs)"
   ]
  },
  {
   "cell_type": "code",
   "execution_count": 15,
   "id": "2ae8a49f",
   "metadata": {},
   "outputs": [],
   "source": [
    "if os.path.exists(test_img_dir):\n",
    "    os.remove(test_img_dir)\n",
    "if os.path.exists(cropped_test_img_dir):\n",
    "    os.remove(cropped_test_img_dir)"
   ]
  }
 ],
 "metadata": {
  "kernelspec": {
   "display_name": "Python 3 (ipykernel)",
   "language": "python",
   "name": "python3"
  },
  "language_info": {
   "codemirror_mode": {
    "name": "ipython",
    "version": 3
   },
   "file_extension": ".py",
   "mimetype": "text/x-python",
   "name": "python",
   "nbconvert_exporter": "python",
   "pygments_lexer": "ipython3",
   "version": "3.9.13"
  },
  "vscode": {
   "interpreter": {
    "hash": "41c800e774e601d639ce71f9927a0a9568ce9289bc97e723fae5961aabffba5d"
   }
  }
 },
 "nbformat": 4,
 "nbformat_minor": 5
}
